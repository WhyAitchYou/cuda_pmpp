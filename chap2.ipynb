{
 "cells": [
  {
   "cell_type": "code",
   "execution_count": 1,
   "id": "c3760aba-5f87-4b78-a3ff-dfd3fdec72ae",
   "metadata": {},
   "outputs": [],
   "source": [
    "from common_lib import *"
   ]
  },
  {
   "cell_type": "code",
   "execution_count": 2,
   "id": "35dc15c4-95ba-4364-a49c-f724b8b8dd5a",
   "metadata": {},
   "outputs": [
    {
     "data": {
      "text/plain": [
       "['/home/bunspeader/.pyenv/versions/3.9.19/lib/python39.zip',\n",
       " '/home/bunspeader/.pyenv/versions/3.9.19/lib/python3.9',\n",
       " '/home/bunspeader/.pyenv/versions/3.9.19/lib/python3.9/lib-dynload',\n",
       " '',\n",
       " '/home/bunspeader/.pyenv/versions/3.9.19/envs/pt39/lib/python3.9/site-packages',\n",
       " '/home/bunspeader/.pyenv/versions/3.9.19/envs/pt39/lib/python3.9/site-packages/setuptools/_vendor',\n",
       " '/tmp/tmp0u62eh87']"
      ]
     },
     "execution_count": 2,
     "metadata": {},
     "output_type": "execute_result"
    }
   ],
   "source": [
    "import sys\n",
    "sys.path"
   ]
  },
  {
   "cell_type": "code",
   "execution_count": 5,
   "id": "fc90e3a0-1054-460d-a2ff-70f3ca787eb9",
   "metadata": {},
   "outputs": [],
   "source": [
    "os.environ['CUDA_LAUNCH_BLOCKING']='1'"
   ]
  },
  {
   "cell_type": "code",
   "execution_count": 6,
   "id": "3721cdc7-4096-4f31-8f50-39882276587a",
   "metadata": {},
   "outputs": [
    {
     "name": "stdout",
     "output_type": "stream",
     "text": [
      "\n",
      "\u001b[1m[\u001b[0m\u001b[34;49mnotice\u001b[0m\u001b[1;39;49m]\u001b[0m\u001b[39;49m A new release of pip is available: \u001b[0m\u001b[31;49m23.0.1\u001b[0m\u001b[39;49m -> \u001b[0m\u001b[32;49m25.0.1\u001b[0m\n",
      "\u001b[1m[\u001b[0m\u001b[34;49mnotice\u001b[0m\u001b[1;39;49m]\u001b[0m\u001b[39;49m To update, run: \u001b[0m\u001b[32;49mpython -m pip install --upgrade pip\u001b[0m\n",
      "Note: you may need to restart the kernel to use updated packages.\n"
     ]
    }
   ],
   "source": [
    "%pip install -q wurlitzer ninja"
   ]
  },
  {
   "cell_type": "markdown",
   "id": "c0f1189f-0db0-4542-be79-3d33a24a25af",
   "metadata": {},
   "source": [
    "# Vector Addition"
   ]
  },
  {
   "cell_type": "code",
   "execution_count": 11,
   "id": "47850fcf-49ca-42a7-93e4-01261db2fcb9",
   "metadata": {},
   "outputs": [],
   "source": [
    "def load_cuda(cuda_srcs, cpp_srcs, funcs, opt=False, verbose=False):\n",
    "    return load_inline(cuda_sources=cuda_srcs, cpp_sources=cpp_srcs, functions=funcs,\n",
    "                       extra_cuda_cflags=[\"-O2\"] if opt else [], verbose=verbose, name=\"inline_ext\")"
   ]
  },
  {
   "cell_type": "code",
   "execution_count": 8,
   "id": "b198bb6c-4f46-4b13-9ccc-bb36262050e0",
   "metadata": {},
   "outputs": [],
   "source": [
    "cuda_begin = r'''\n",
    "#include <torch/extension.h>\n",
    "#include <stdio.h>\n",
    "#include <c10/cuda/CUDAException.h>\n",
    "\n",
    "#define CHECK_CUDA(x) TORCH_CHECK(x.device().is_cuda(), #x \" must be a CUDA tensor\")\n",
    "#define CHECK_CONTIGUOUS(x) TORCH_CHECK(x.is_contiguous(), #x \" must be contiguous\")\n",
    "#define CHECK_INPUT(x) CHECK_CUDA(x); CHECK_CONTIGUOUS(x)\n",
    "\n",
    "inline unsigned int cdiv(unsigned int a, unsigned int b) { return (a + b - 1) / b;}\n",
    "'''"
   ]
  },
  {
   "cell_type": "code",
   "execution_count": 98,
   "id": "b296561e-c9ff-430e-a085-f9c1e9df82d8",
   "metadata": {},
   "outputs": [],
   "source": [
    "cuda_srcs = cuda_begin + r'''\n",
    "__global__ void rgb_to_grayscale_kernel(unsigned char* x, unsigned char* out, int n) {\n",
    "    int i = blockIdx.x*blockDim.x + threadIdx.x;\n",
    "    if (i<n) out[i] = 0.2989*x[i] + 0.5870*x[i+n] + 0.1140*x[i+2*n];\n",
    "}\n",
    "\n",
    "__global__ void vecAddKernel(unsigned char* A, unsigned char* B, unsigned char* C, int n) {\n",
    "  int i = threadIdx.x + blockDim.x * blockIdx.x;\n",
    "  if (i < n) {\n",
    "    C[i] = A[i] + B[i];\n",
    "  }\n",
    "}\n",
    "\n",
    "torch::Tensor rgb_to_grayscale(torch::Tensor input) {\n",
    "    CHECK_INPUT(input);\n",
    "    int h = input.size(1);\n",
    "    int w = input.size(2);\n",
    "    printf(\"h*w: %d*%d\\n\", h, w);\n",
    "    auto output = torch::empty({h,w}, input.options());\n",
    "    int threads = 256;\n",
    "    rgb_to_grayscale_kernel<<<cdiv(w*h,threads), threads>>>(\n",
    "        input.data_ptr<unsigned char>(), output.data_ptr<unsigned char>(), w*h);\n",
    "    C10_CUDA_KERNEL_LAUNCH_CHECK();\n",
    "    return output;\n",
    "}\n",
    "\n",
    "void vec_add(torch::Tensor A, torch::Tensor B, torch::Tensor C, int n) {\n",
    "  CHECK_INPUT(A);\n",
    "  CHECK_INPUT(B);\n",
    "  CHECK_INPUT(C);\n",
    "  int threads = 256;\n",
    "  vecAddKernel<<<cdiv(n, threads), threads>>>(A.data_ptr<unsigned char>(), B.data_ptr<unsigned char>(), C.data_ptr<unsigned char>(), n);\n",
    "  C10_CUDA_KERNEL_LAUNCH_CHECK();\n",
    "}'''"
   ]
  },
  {
   "cell_type": "code",
   "execution_count": 99,
   "id": "01dab39d-9c7c-4e7b-8064-29c1812b46ed",
   "metadata": {},
   "outputs": [],
   "source": [
    "cpp_srcs = [\"torch::Tensor rgb_to_grayscale(torch::Tensor input);\", 'void vec_add(torch::Tensor A, torch::Tensor B, torch::Tensor C, int n);']"
   ]
  },
  {
   "cell_type": "code",
   "execution_count": 100,
   "id": "bca5c803-0c78-4dd7-a163-17c90fcd9286",
   "metadata": {},
   "outputs": [
    {
     "name": "stderr",
     "output_type": "stream",
     "text": [
      "Using /home/bunspeader/.cache/torch_extensions/py39_cu124 as PyTorch extensions root...\n",
      "The input conditions for extension module inline_ext have changed. Bumping to version 6 and re-building as inline_ext_v6...\n",
      "Detected CUDA files, patching ldflags\n",
      "Emitting ninja build file /home/bunspeader/.cache/torch_extensions/py39_cu124/inline_ext/build.ninja...\n",
      "/home/bunspeader/.pyenv/versions/3.9.19/envs/pt39/lib/python3.9/site-packages/torch/utils/cpp_extension.py:2059: UserWarning: TORCH_CUDA_ARCH_LIST is not set, all archs for visible cards are included for compilation. \n",
      "If this is not desired, please set os.environ['TORCH_CUDA_ARCH_LIST'].\n",
      "  warnings.warn(\n",
      "Building extension module inline_ext_v6...\n",
      "Allowing ninja to set a default number of workers... (overridable by setting the environment variable MAX_JOBS=N)\n"
     ]
    },
    {
     "name": "stdout",
     "output_type": "stream",
     "text": [
      "[1/3] c++ -MMD -MF main.o.d -DTORCH_EXTENSION_NAME=inline_ext_v6 -DTORCH_API_INCLUDE_EXTENSION_H -DPYBIND11_COMPILER_TYPE=\\\"_gcc\\\" -DPYBIND11_STDLIB=\\\"_libstdcpp\\\" -DPYBIND11_BUILD_ABI=\\\"_cxxabi1011\\\" -isystem /home/bunspeader/.pyenv/versions/3.9.19/envs/pt39/lib/python3.9/site-packages/torch/include -isystem /home/bunspeader/.pyenv/versions/3.9.19/envs/pt39/lib/python3.9/site-packages/torch/include/torch/csrc/api/include -isystem /home/bunspeader/.pyenv/versions/3.9.19/envs/pt39/lib/python3.9/site-packages/torch/include/TH -isystem /home/bunspeader/.pyenv/versions/3.9.19/envs/pt39/lib/python3.9/site-packages/torch/include/THC -isystem /usr/local/cuda-12.8/include -isystem /home/bunspeader/.pyenv/versions/3.9.19/include/python3.9 -D_GLIBCXX_USE_CXX11_ABI=0 -fPIC -std=c++17 -c /home/bunspeader/.cache/torch_extensions/py39_cu124/inline_ext/main.cpp -o main.o \n",
      "[2/3] /usr/local/cuda-12.8/bin/nvcc --generate-dependencies-with-compile --dependency-output cuda.cuda.o.d -DTORCH_EXTENSION_NAME=inline_ext_v6 -DTORCH_API_INCLUDE_EXTENSION_H -DPYBIND11_COMPILER_TYPE=\\\"_gcc\\\" -DPYBIND11_STDLIB=\\\"_libstdcpp\\\" -DPYBIND11_BUILD_ABI=\\\"_cxxabi1011\\\" -isystem /home/bunspeader/.pyenv/versions/3.9.19/envs/pt39/lib/python3.9/site-packages/torch/include -isystem /home/bunspeader/.pyenv/versions/3.9.19/envs/pt39/lib/python3.9/site-packages/torch/include/torch/csrc/api/include -isystem /home/bunspeader/.pyenv/versions/3.9.19/envs/pt39/lib/python3.9/site-packages/torch/include/TH -isystem /home/bunspeader/.pyenv/versions/3.9.19/envs/pt39/lib/python3.9/site-packages/torch/include/THC -isystem /usr/local/cuda-12.8/include -isystem /home/bunspeader/.pyenv/versions/3.9.19/include/python3.9 -D_GLIBCXX_USE_CXX11_ABI=0 -D__CUDA_NO_HALF_OPERATORS__ -D__CUDA_NO_HALF_CONVERSIONS__ -D__CUDA_NO_BFLOAT16_CONVERSIONS__ -D__CUDA_NO_HALF2_OPERATORS__ --expt-relaxed-constexpr -gencode=arch=compute_89,code=compute_89 -gencode=arch=compute_89,code=sm_89 --compiler-options '-fPIC' -std=c++17 -c /home/bunspeader/.cache/torch_extensions/py39_cu124/inline_ext/cuda.cu -o cuda.cuda.o \n",
      "[3/3] c++ main.o cuda.cuda.o -shared -L/home/bunspeader/.pyenv/versions/3.9.19/envs/pt39/lib/python3.9/site-packages/torch/lib -lc10 -lc10_cuda -ltorch_cpu -ltorch_cuda -ltorch -ltorch_python -L/usr/local/cuda-12.8/lib64 -lcudart -o inline_ext_v6.so\n"
     ]
    },
    {
     "name": "stderr",
     "output_type": "stream",
     "text": [
      "Loading extension module inline_ext_v6...\n"
     ]
    }
   ],
   "source": [
    "module = load_cuda(cuda_srcs, cpp_srcs, [\"rgb_to_grayscale\", \"vec_add\"], verbose=True)"
   ]
  },
  {
   "cell_type": "code",
   "execution_count": 101,
   "id": "2b38de35-12a8-40f9-80c2-c2281208ef3d",
   "metadata": {},
   "outputs": [
    {
     "data": {
      "text/plain": [
       "['__doc__',\n",
       " '__file__',\n",
       " '__loader__',\n",
       " '__name__',\n",
       " '__package__',\n",
       " '__spec__',\n",
       " 'rgb_to_grayscale',\n",
       " 'vec_add']"
      ]
     },
     "execution_count": 101,
     "metadata": {},
     "output_type": "execute_result"
    }
   ],
   "source": [
    "dir(module)"
   ]
  },
  {
   "cell_type": "code",
   "execution_count": 102,
   "id": "36b86aa2-a5ef-4a58-9a0f-6a23ed9f6d13",
   "metadata": {},
   "outputs": [],
   "source": [
    "n = 100000000\n",
    "a = torch.randint(0, 100, (n,), dtype=torch.uint8)\n",
    "a_cuda = a.to(\"cuda\")\n",
    "b = torch.randint(0, 100, (n,), dtype=torch.uint8)\n",
    "b_cuda = b.to(\"cuda\")\n",
    "c = torch.empty_like(a).to(\"cuda\")"
   ]
  },
  {
   "cell_type": "code",
   "execution_count": 121,
   "id": "433a0e48-f8bb-43a7-be7b-f4408a7c8e0e",
   "metadata": {},
   "outputs": [
    {
     "name": "stdout",
     "output_type": "stream",
     "text": [
      "CPU times: user 1min 40s, sys: 32.8 s, total: 2min 13s\n",
      "Wall time: 13.4 s\n"
     ]
    }
   ],
   "source": [
    "%%time\n",
    "for _ in range(1000):\n",
    "    a + b"
   ]
  },
  {
   "cell_type": "code",
   "execution_count": 122,
   "id": "9609dcc0-7025-438e-896f-7fd31a55be68",
   "metadata": {},
   "outputs": [
    {
     "name": "stdout",
     "output_type": "stream",
     "text": [
      "CPU times: user 1.81 s, sys: 9.09 ms, total: 1.82 s\n",
      "Wall time: 1.81 s\n"
     ]
    }
   ],
   "source": [
    "%%time\n",
    "for _ in range(1000):\n",
    "    module.vec_add(a_cuda, b_cuda, c, n)"
   ]
  },
  {
   "cell_type": "code",
   "execution_count": null,
   "id": "82afe6f0-ea4a-4d45-a205-d92b0b9a4360",
   "metadata": {},
   "outputs": [],
   "source": []
  }
 ],
 "metadata": {
  "kernelspec": {
   "display_name": "Python 3 (ipykernel)",
   "language": "python",
   "name": "python3"
  },
  "language_info": {
   "codemirror_mode": {
    "name": "ipython",
    "version": 3
   },
   "file_extension": ".py",
   "mimetype": "text/x-python",
   "name": "python",
   "nbconvert_exporter": "python",
   "pygments_lexer": "ipython3",
   "version": "3.9.19"
  }
 },
 "nbformat": 4,
 "nbformat_minor": 5
}
